{
 "cells": [
  {
   "cell_type": "code",
   "execution_count": 9,
   "metadata": {},
   "outputs": [],
   "source": [
    "import warnings\n",
    "warnings.filterwarnings('ignore')\n",
    "import numpy as np\n",
    "import matplotlib.pyplot as plt\n",
    "%matplotlib inline"
   ]
  },
  {
   "cell_type": "markdown",
   "metadata": {},
   "source": [
    "First we'll generate a random matrix"
   ]
  },
  {
   "cell_type": "code",
   "execution_count": 3,
   "metadata": {},
   "outputs": [],
   "source": [
    "#Number of columns (features)\n",
    "K = 5\n",
    "\n",
    "#Number of records\n",
    "N = 1000\n",
    "\n",
    "#Generate an NxK matrix of uniform random variables\n",
    "X = np.random.random([N, K])"
   ]
  },
  {
   "cell_type": "markdown",
   "metadata": {},
   "source": [
    "Let's peak at our data to confirm it looks as we expect it"
   ]
  },
  {
   "cell_type": "code",
   "execution_count": 25,
   "metadata": {},
   "outputs": [
    {
     "data": {
      "text/plain": [
       "array([[ 0.56726473,  0.88519365,  0.38457625,  0.9289916 ,  0.80676031],\n",
       "       [ 0.8374388 ,  0.06572888,  0.60501027,  0.93789147,  0.87269427],\n",
       "       [ 0.51596327,  0.57014495,  0.49929248,  0.12006497,  0.192955  ],\n",
       "       [ 0.39307975,  0.29989923,  0.13022893,  0.94546009,  0.37604155],\n",
       "       [ 0.23571947,  0.77158833,  0.95217363,  0.80786973,  0.25927613],\n",
       "       [ 0.77335227,  0.71279127,  0.8286364 ,  0.50398574,  0.38186475],\n",
       "       [ 0.79490117,  0.54187259,  0.97632271,  0.92401599,  0.80075049],\n",
       "       [ 0.57976977,  0.62170461,  0.41236319,  0.86365717,  0.58459201],\n",
       "       [ 0.81778288,  0.1194657 ,  0.57798831,  0.77566011,  0.39256776],\n",
       "       [ 0.49087861,  0.38116971,  0.80257431,  0.43860288,  0.30919184],\n",
       "       [ 0.54246161,  0.36645695,  0.2080655 ,  0.63499909,  0.77500234],\n",
       "       [ 0.33816973,  0.40838686,  0.72212608,  0.3018089 ,  0.93249856],\n",
       "       [ 0.32002848,  0.59826033,  0.3245968 ,  0.01708408,  0.83242526],\n",
       "       [ 0.27870605,  0.13622464,  0.45983858,  0.53979866,  0.72784328],\n",
       "       [ 0.36656549,  0.6741774 ,  0.51135885,  0.11953248,  0.91102448],\n",
       "       [ 0.73545237,  0.97940758,  0.77652809,  0.3597443 ,  0.07250011],\n",
       "       [ 0.10126323,  0.5300867 ,  0.56047929,  0.15793191,  0.45611761],\n",
       "       [ 0.50747887,  0.40976098,  0.28043637,  0.29946094,  0.8064903 ],\n",
       "       [ 0.69893619,  0.14357097,  0.42566789,  0.40849617,  0.32361536],\n",
       "       [ 0.58888587,  0.30434069,  0.47804832,  0.66884292,  0.22202075],\n",
       "       [ 0.35440108,  0.70932179,  0.93524608,  0.08985131,  0.7537016 ],\n",
       "       [ 0.80686155,  0.76989985,  0.18949725,  0.9885479 ,  0.46796332],\n",
       "       [ 0.34155667,  0.9778409 ,  0.15495706,  0.81567596,  0.99422143],\n",
       "       [ 0.02848531,  0.83895766,  0.96845737,  0.94201799,  0.96953297],\n",
       "       [ 0.37920745,  0.8144313 ,  0.61362221,  0.90500847,  0.14203608],\n",
       "       [ 0.95116009,  0.7950462 ,  0.31178452,  0.78255991,  0.77274691],\n",
       "       [ 0.89008563,  0.4977264 ,  0.78042143,  0.21412861,  0.58474564],\n",
       "       [ 0.05489868,  0.67033439,  0.31712238,  0.9463224 ,  0.76896218],\n",
       "       [ 0.6678361 ,  0.6976692 ,  0.68717155,  0.86074157,  0.85735165],\n",
       "       [ 0.04697121,  0.15084431,  0.78253034,  0.47838405,  0.97483836],\n",
       "       [ 0.39947715,  0.15083681,  0.4106105 ,  0.34383672,  0.87721554],\n",
       "       [ 0.01641214,  0.65373011,  0.24260726,  0.9512644 ,  0.53232489],\n",
       "       [ 0.80171161,  0.92268838,  0.41507666,  0.39455151,  0.15037355],\n",
       "       [ 0.26240065,  0.23524154,  0.62565975,  0.04452018,  0.57182216],\n",
       "       [ 0.17220446,  0.55733985,  0.49682241,  0.54611835,  0.30749788],\n",
       "       [ 0.74126628,  0.36814178,  0.0859102 ,  0.60579963,  0.36693428],\n",
       "       [ 0.10695279,  0.08286539,  0.79788255,  0.21977837,  0.83876066],\n",
       "       [ 0.81994427,  0.96975297,  0.5905776 ,  0.69958798,  0.81029233],\n",
       "       [ 0.91082962,  0.32282012,  0.04963982,  0.99001172,  0.6881969 ],\n",
       "       [ 0.0019651 ,  0.90821772,  0.99861886,  0.48120498,  0.76162516],\n",
       "       [ 0.20945193,  0.59584878,  0.82203773,  0.60920936,  0.52190042],\n",
       "       [ 0.8317118 ,  0.19771538,  0.89170463,  0.14245043,  0.31220399],\n",
       "       [ 0.60410243,  0.48223788,  0.67190076,  0.87298903,  0.71618128],\n",
       "       [ 0.30558324,  0.27879647,  0.19820234,  0.12786033,  0.26821674],\n",
       "       [ 0.02685075,  0.45636439,  0.98067055,  0.39201869,  0.49987946],\n",
       "       [ 0.87740541,  0.70160965,  0.86480351,  0.51994476,  0.83838723],\n",
       "       [ 0.64107861,  0.33764988,  0.46923204,  0.46692673,  0.75388284],\n",
       "       [ 0.59958364,  0.54533061,  0.91017482,  0.44385388,  0.90036253],\n",
       "       [ 0.4194695 ,  0.19965553,  0.8187188 ,  0.94907564,  0.83267827],\n",
       "       [ 0.33175185,  0.63426157,  0.58821991,  0.37835221,  0.06445045],\n",
       "       [ 0.57993836,  0.44666745,  0.89859752,  0.14837862,  0.73945504],\n",
       "       [ 0.20369947,  0.6738436 ,  0.31945478,  0.78395974,  0.13039157],\n",
       "       [ 0.99717181,  0.37441438,  0.04608478,  0.7524641 ,  0.1488018 ],\n",
       "       [ 0.33451778,  0.51828718,  0.62656983,  0.53409799,  0.39934404],\n",
       "       [ 0.85857388,  0.90500534,  0.9078585 ,  0.81555925,  0.92770173],\n",
       "       [ 0.57991159,  0.68149104,  0.21534942,  0.40251772,  0.10998048],\n",
       "       [ 0.77999978,  0.17224264,  0.78099993,  0.73436506,  0.76367401],\n",
       "       [ 0.87413223,  0.76188908,  0.87692062,  0.14864862,  0.89034525],\n",
       "       [ 0.03833406,  0.44300709,  0.9429029 ,  0.8313747 ,  0.23296226],\n",
       "       [ 0.73377542,  0.1517143 ,  0.89500559,  0.39825168,  0.74437585],\n",
       "       [ 0.55824941,  0.71890299,  0.85113216,  0.86203772,  0.57542134],\n",
       "       [ 0.29263532,  0.86934227,  0.77496971,  0.60723255,  0.85331039],\n",
       "       [ 0.48242717,  0.40553313,  0.03815815,  0.44939128,  0.69797913],\n",
       "       [ 0.30439056,  0.91322867,  0.1433853 ,  0.59381671,  0.10046408],\n",
       "       [ 0.21379296,  0.45927319,  0.58006773,  0.61826923,  0.42893699],\n",
       "       [ 0.98926617,  0.37712274,  0.6360081 ,  0.89879486,  0.75096324],\n",
       "       [ 0.27562908,  0.11222963,  0.18852962,  0.30104364,  0.04867248],\n",
       "       [ 0.85217001,  0.20778352,  0.61683955,  0.03842825,  0.43063046],\n",
       "       [ 0.31977615,  0.67135766,  0.00754901,  0.35561295,  0.83480543],\n",
       "       [ 0.92483876,  0.38324584,  0.26170507,  0.08595   ,  0.85841969],\n",
       "       [ 0.11600583,  0.5763355 ,  0.53441943,  0.44372216,  0.11062101],\n",
       "       [ 0.07120997,  0.08525657,  0.00944025,  0.93666958,  0.96368868],\n",
       "       [ 0.92005971,  0.54027651,  0.98713728,  0.86581849,  0.67369713],\n",
       "       [ 0.2030213 ,  0.44605744,  0.41027392,  0.57970669,  0.26684584],\n",
       "       [ 0.5597934 ,  0.84191161,  0.52452144,  0.66862324,  0.67395438],\n",
       "       [ 0.7111105 ,  0.69054647,  0.18720167,  0.55361384,  0.46948294],\n",
       "       [ 0.20001103,  0.48428051,  0.86644517,  0.35914009,  0.97182437],\n",
       "       [ 0.20611743,  0.04009286,  0.48941733,  0.11009053,  0.29939969],\n",
       "       [ 0.53831409,  0.78223072,  0.38749426,  0.86108788,  0.41050433],\n",
       "       [ 0.26549744,  0.06346452,  0.71430836,  0.61175277,  0.44944494],\n",
       "       [ 0.55978417,  0.43850445,  0.89389893,  0.76542368,  0.50217765],\n",
       "       [ 0.9676015 ,  0.58509969,  0.27844792,  0.73169424,  0.63960194],\n",
       "       [ 0.65030892,  0.20660637,  0.35180648,  0.38624272,  0.81585076],\n",
       "       [ 0.17946191,  0.45030699,  0.51780232,  0.27060706,  0.68871124],\n",
       "       [ 0.65851837,  0.3017823 ,  0.11505632,  0.35793913,  0.70479191],\n",
       "       [ 0.89456521,  0.68837528,  0.50928776,  0.51264852,  0.9868656 ],\n",
       "       [ 0.29664178,  0.91231152,  0.25510293,  0.43704879,  0.50490406],\n",
       "       [ 0.36535158,  0.47304373,  0.72647876,  0.34136084,  0.66441709],\n",
       "       [ 0.00985248,  0.96747988,  0.02577832,  0.4691919 ,  0.09051292],\n",
       "       [ 0.62629941,  0.52569498,  0.84001144,  0.28603408,  0.43327683],\n",
       "       [ 0.08515738,  0.87888046,  0.87529099,  0.05879546,  0.89457316],\n",
       "       [ 0.27715777,  0.02917656,  0.36828211,  0.71556113,  0.0112903 ],\n",
       "       [ 0.67979936,  0.09062055,  0.60057913,  0.00913609,  0.19988208],\n",
       "       [ 0.46152289,  0.90160455,  0.43017683,  0.59773215,  0.19085342],\n",
       "       [ 0.89075473,  0.85215885,  0.1192885 ,  0.92119846,  0.77469958],\n",
       "       [ 0.10888103,  0.20509855,  0.80721823,  0.85410043,  0.7664439 ],\n",
       "       [ 0.45236562,  0.70240164,  0.39346369,  0.99096732,  0.9097725 ],\n",
       "       [ 0.20799161,  0.23284876,  0.64422235,  0.71636092,  0.1461139 ],\n",
       "       [ 0.94922366,  0.69065932,  0.38860711,  0.25258281,  0.85444715],\n",
       "       [ 0.71068535,  0.1859562 ,  0.48411783,  0.43418464,  0.02463864]])"
      ]
     },
     "execution_count": 25,
     "metadata": {},
     "output_type": "execute_result"
    }
   ],
   "source": [
    "#View the first 100 rows\n",
    "X[:100,:]"
   ]
  },
  {
   "cell_type": "code",
   "execution_count": 26,
   "metadata": {},
   "outputs": [
    {
     "data": {
      "text/plain": [
       "(1000, 5)"
      ]
     },
     "execution_count": 26,
     "metadata": {},
     "output_type": "execute_result"
    }
   ],
   "source": [
    "#See the dimensions of X\n",
    "X.shape"
   ]
  },
  {
   "cell_type": "markdown",
   "metadata": {},
   "source": [
    "This exercise is about designing a scoring function for a logistic regression. As we are not concerned with fitting a model to data, we can just make up a logistic regression. <br> <br>\n",
    "\n",
    "For quick intro, the Logistic Regression takes the form of $\\hat{Y} = f(x * \\beta^T)$, where $x$ is the $1xK$ vector of features and $\\beta$ is the $1xK$ vector of weights. The function $f$, called a 'link' function, is the inverse logit: <br><br>\n",
    "\n",
    "<center>$f(a)=\\frac{1}{1+e^{-a}}$</center> <br><br>\n",
    "\n",
    "In this notebook we'll write a function that, given inputs of $X$ and $\\beta$, returns a value for $\\hat{Y}$.\n",
    "<br><br>\n",
    "First let's generate a random set of weights to represent $\\beta$.\n"
   ]
  },
  {
   "cell_type": "code",
   "execution_count": 27,
   "metadata": {},
   "outputs": [
    {
     "data": {
      "text/plain": [
       "array([-0.72543572, -0.53606537, -0.05166586, -0.09036846,  0.05471693])"
      ]
     },
     "execution_count": 27,
     "metadata": {},
     "output_type": "execute_result"
    }
   ],
   "source": [
    "#Generate a K dimensional vector of uniform random variables in the interval [-1, 1]\n",
    "beta = 2*(np.random.random(K) - 0.5)\n",
    "beta"
   ]
  },
  {
   "cell_type": "markdown",
   "metadata": {},
   "source": [
    "Notice how we applied a neat NumPy trick here. The numpy.random.random() function returns an array, yet we applied what appears to be a scalar operation on the vector. This is an example of what NumPy calls vectorization (a major point of this tutorial), which offers us both a very fast way to do run vector computations as well as a clean and concise method of coding. \n",
    "\n",
    "<br><br>\n",
    "\n",
    "<b>Question: we designed the above $beta$ vector such that $E[\\beta_i]=0$. How can we confirm that we did this correctly?</b>"
   ]
  },
  {
   "cell_type": "code",
   "execution_count": 12,
   "metadata": {},
   "outputs": [
    {
     "data": {
      "text/plain": [
       "-0.2674231384214707"
      ]
     },
     "execution_count": 12,
     "metadata": {},
     "output_type": "execute_result"
    }
   ],
   "source": [
    "#start by taking the mean of the beta we already calculated\n",
    "beta.mean()\n"
   ]
  },
  {
   "cell_type": "code",
   "execution_count": 15,
   "metadata": {},
   "outputs": [],
   "source": [
    "#It is likely the above is not equal to zero. Let's simulate this 100k times and see what the distribution of means is\n",
    "means = []\n",
    "\n",
    "for i in range(100000): \n",
    "    beta = 2*(np.random.random(K) - 0.5)\n",
    "    means.append(beta.mean())"
   ]
  },
  {
   "cell_type": "markdown",
   "metadata": {},
   "source": [
    "Now let's use matplotlibs hist function to plot the histogram of means here. "
   ]
  },
  {
   "cell_type": "code",
   "execution_count": 16,
   "metadata": {},
   "outputs": [
    {
     "data": {
      "image/png": "[encoded data removed]",
      "text/plain": [
       "<matplotlib.figure.Figure at 0x108988d50>"
      ]
     },
     "metadata": {},
     "output_type": "display_data"
    }
   ],
   "source": [
    "plt.hist(means)\n",
    "plt.show()"
   ]
  },
  {
   "cell_type": "markdown",
   "metadata": {},
   "source": [
    "We should expect the distribution to be centered around zero. Is it? As fun technical side, let's dive a little deeper into what this distribution should look like. The histogram shows a distribution of the average of a sample of 5 uniformly distributed random variables taken over N different samples. Can we compare this to a theoretical distribution?<br>\n",
    "\n",
    "Yes we can! We sampled each $\\beta_i$ from a uniform distribution over the interval $[-1, 1]$. The variance of a sample of uniformly distributed variables is given by $(1/12) * (b - a)^2$, where $b$ and $a$ are the min/max of the support interval. The standard error (or the standard deviation of the mean) of a sample of size K with with $Var(X) = \\sigma^2$ is $\\sigma / \\sqrt(K)$. <br>\n",
    "\n",
    "Given the above knowledge, we should expect our distribution of averages to be normally distributed with mean = 0 and var = $(12 * 5)^{-1} * (1 - (-1))^2 = 0.66667$. Let's compare this normal distribution to our sample above."
   ]
  },
  {
   "cell_type": "code",
   "execution_count": 17,
   "metadata": {},
   "outputs": [
    {
     "data": {
      "image/png": "[encoded data removed]",
      "text/plain": [
       "<matplotlib.figure.Figure at 0x10c0280d0>"
      ]
     },
     "metadata": {},
     "output_type": "display_data"
    }
   ],
   "source": [
    "#Compute a vector from the normal distribution specified above\n",
    "from scipy.stats import norm\n",
    "mu = 0\n",
    "sig = np.sqrt(4 / 60.0) \n",
    "xs = np.linspace(-1, 1, 1000)\n",
    "ys = norm.pdf(xs, mu, sig) \n",
    "\n",
    "plt.hist(means, normed = True)\n",
    "plt.plot(xs, ys)\n",
    "plt.show()\n"
   ]
  },
  {
   "cell_type": "markdown",
   "metadata": {},
   "source": [
    "Now let's write our scoring function. Let's try to use as much of Numpy's inner optimization as possible (hint, this can be done in two lines and without writing any loops). The key is that numpy functions that would normally take in a scalar can also take in an array, and the function applies the operations element wise to the array and returns an array. i.e.:"
   ]
  },
  {
   "cell_type": "code",
   "execution_count": 18,
   "metadata": {},
   "outputs": [
    {
     "data": {
      "text/plain": [
       "array([1, 1])"
      ]
     },
     "execution_count": 18,
     "metadata": {},
     "output_type": "execute_result"
    }
   ],
   "source": [
    "ex_array = np.array([-1, 1])\n",
    "np.abs(ex_array)"
   ]
  },
  {
   "cell_type": "markdown",
   "metadata": {},
   "source": [
    "Let's use this feature to write a fast and clean scoring function"
   ]
  },
  {
   "cell_type": "code",
   "execution_count": 19,
   "metadata": {
    "collapsed": true
   },
   "outputs": [],
   "source": [
    "def score_logistic_regression(X, beta):\n",
    "    '''\n",
    "    This function takes in an NxK matrix X and 1xK vector beta.\n",
    "    The function should apply the logistic scoring function to each record of X.\n",
    "    The output should be an Nx1 vector of scores\n",
    "    '''\n",
    "    \n",
    "    #First let's calculate X*beta - make sure to use numpy's 'dot' method\n",
    "    xbeta = X.dot(beta)\n",
    "    \n",
    "    #Now let's input this into the link function\n",
    "    \n",
    "    prob_score = 1/(1 + np.exp(-1 * xbeta))\n",
    "    \n",
    "    return prob_score"
   ]
  },
  {
   "cell_type": "markdown",
   "metadata": {},
   "source": [
    "So how much faster is it by using Numpy? We can test this be writing the same function that uses no Numpy and executes via loops."
   ]
  },
  {
   "cell_type": "code",
   "execution_count": 20,
   "metadata": {},
   "outputs": [],
   "source": [
    "def score_logistic_regression_NoNumpy(X, beta):\n",
    "    '''\n",
    "    This function takes in an NxK matrix X and 1xK vector beta.\n",
    "    The function should apply the logistic scoring function to each record of X.\n",
    "    The output should be an Nx1 vector of scores\n",
    "    '''\n",
    "    #Let's calculate xbeta using loops\n",
    "    xbeta = []\n",
    "    for row in X:\n",
    "        \n",
    "        xb = 0\n",
    "        for i, el in enumerate(row):\n",
    "            xb += el * beta[i]\n",
    "        \n",
    "        xbeta.append(xb)\n",
    "        \n",
    "    #Now let's apply the link function to each xbeta\n",
    "    prob_score = []\n",
    "    for xb in xbeta:\n",
    "        p = (1 / (1 + np.exp(-1 * xb)))  \n",
    "        prob_score.append(p)\n",
    "        \n",
    "    return prob_score"
   ]
  },
  {
   "cell_type": "markdown",
   "metadata": {},
   "source": [
    "Before doing any analysis, let's test the output of each to make sure they equal"
   ]
  },
  {
   "cell_type": "code",
   "execution_count": 21,
   "metadata": {},
   "outputs": [
    {
     "name": "stdout",
     "output_type": "stream",
     "text": [
      "Mean Absolute Deviation = 0.0\n"
     ]
    }
   ],
   "source": [
    "#Student - write a unit test that calls each function with the same inputs and checks to see they return \n",
    "#the same values. \n",
    "diff = np.abs(score_logistic_regression_NoNumpy(X, beta) - score_logistic_regression(X, beta))\n",
    "\n",
    "print(\"Mean Absolute Deviation = {}\".format(np.round(diff.sum(), 8)))"
   ]
  },
  {
   "cell_type": "markdown",
   "metadata": {},
   "source": [
    "If they equal then we can proceed with timing analysis"
   ]
  },
  {
   "cell_type": "code",
   "execution_count": 22,
   "metadata": {},
   "outputs": [
    {
     "name": "stdout",
     "output_type": "stream",
     "text": [
      "100 loops, best of 3: 4.78 ms per loop\n"
     ]
    }
   ],
   "source": [
    "%timeit score_logistic_regression_NoNumpy(X, beta)"
   ]
  },
  {
   "cell_type": "code",
   "execution_count": 23,
   "metadata": {},
   "outputs": [
    {
     "name": "stdout",
     "output_type": "stream",
     "text": [
      "The slowest run took 15.10 times longer than the fastest. This could mean that an intermediate result is being cached.\n",
      "10000 loops, best of 3: 21.3 µs per loop\n"
     ]
    }
   ],
   "source": [
    "%timeit score_logistic_regression(X, beta)"
   ]
  },
  {
   "cell_type": "markdown",
   "metadata": {},
   "source": []
  },
  {
   "cell_type": "code",
   "execution_count": null,
   "metadata": {
    "collapsed": true
   },
   "outputs": [],
   "source": []
  }
 ],
 "metadata": {
  "anaconda-cloud": {},
  "kernelspec": {
   "display_name": "Python 2",
   "language": "python",
   "name": "python2"
  },
  "language_info": {
   "codemirror_mode": {
    "name": "ipython",
    "version": 2
   },
   "file_extension": ".py",
   "mimetype": "text/x-python",
   "name": "python",
   "nbconvert_exporter": "python",
   "pygments_lexer": "ipython2",
   "version": "2.7.13"
  }
 },
 "nbformat": 4,
 "nbformat_minor": 1
}
